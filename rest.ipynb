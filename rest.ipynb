{
 "cells": [
  {
   "cell_type": "code",
   "execution_count": 1,
   "metadata": {},
   "outputs": [],
   "source": [
    "import cherrypy\n",
    "import json\n",
    "import redis\n",
    "import uuid\n",
    "import requests\n",
    "from redis.commands.json.path import Path\n",
    "import time"
   ]
  },
  {
   "cell_type": "code",
   "execution_count": 2,
   "metadata": {},
   "outputs": [
    {
     "name": "stdout",
     "output_type": "stream",
     "text": [
      "Is connected?  True\n"
     ]
    }
   ],
   "source": [
    "publicid = \"redis-15072.c77.eu-west-1-1.ec2.cloud.redislabs.com\"\n",
    "username = \"default\"\n",
    "password = \"53R8YAlL81zAHIEVcPjwjzcnVQoSPhzt\"\n",
    "redis_port = 15072\n",
    "\n",
    "redis_client = redis.Redis(host = publicid, password = password, username = username, port = redis_port)\n",
    "print(\"Is connected? \", redis_client.ping())"
   ]
  },
  {
   "cell_type": "code",
   "execution_count": null,
   "metadata": {},
   "outputs": [],
   "source": [
    "class SMS(object):\n",
    "    exposed = True\n",
    "    \n",
    "    def GET(self):\n",
    "        # response = {'mac_address':[]}\n",
    "        items = []\n",
    "        keys = redis_client.keys(\"*:speed\")\n",
    "        print(len(keys))\n",
    "        for key in keys:\n",
    "            key = key.decode()\n",
    "            items.append(key.split(\":\")[0])\n",
    "\n",
    "        response = {\"mac_address\":items}\n",
    "        \n",
    "        return json.dumps(response)\n",
    "\n",
    "\n",
    "class SpecificSMS:\n",
    "    exposed = True\n",
    "\n",
    "    def GET(self, *path, **query):\n",
    "        mac_address = path[0]\n",
    "        if mac_address == \"\":\n",
    "            raise cherrypy.HTTPError(400, \"Bad requested: missing MAC address\")\n",
    "        else:\n",
    "            items = []\n",
    "            keys = redis_client.keys(\"*:speed\")\n",
    "            for key in keys:\n",
    "                key = key.decode()\n",
    "                items.append(key.split(\":\")[0])\n",
    "            if mac_address not in items:\n",
    "                raise cherrypy.HTTPError(404, \"Not found: invalid MAC address\")\n",
    "\n",
    "        if query['from'] == \"\":\n",
    "            raise cherrypy.HTTPError(400, \"Bad requested: missing start time\")\n",
    "        if query['to'] == \"\":\n",
    "            raise cherrypy.HTTPError(400, \"Bad requested: missing end time\")\n",
    "\n",
    "        speeds = redis_client.ts().range(f\"{mac_address}:speed\", int(query['from']), int(query['to']))\n",
    "        timestamps = [speed[0] for speed in speeds]\n",
    "        speed_label = [speed[1] for speed in speeds]\n",
    "\n",
    "        response = {\n",
    "            \"mac_address\":mac_address,\n",
    "            \"timestamps\":timestamps,\n",
    "            \"speed_label\":speed_label,\n",
    "        }\n",
    "        return json.dumps(response)\n",
    "\n",
    "    def DELETE(self, *path, **query):\n",
    "        mac_address = path[0]\n",
    "        if mac_address == \"\":\n",
    "            raise cherrypy.HTTPError(400, \"Bad requested: missing MAC address\")\n",
    "        else:\n",
    "            items = []\n",
    "            keys = redis_client.keys(\"*:speed\")\n",
    "            for key in keys:\n",
    "                key = key.decode()\n",
    "                items.append(key.split(\":\")[0])\n",
    "            if mac_address not in items:\n",
    "                raise cherrypy.HTTPError(404, \"Not found: invalid MAC address\")\n",
    "\n",
    "        redis_client.delete(f\"{mac_address}:speed\")"
   ]
  },
  {
   "cell_type": "code",
   "execution_count": null,
   "metadata": {},
   "outputs": [],
   "source": [
    "if __name__=='__main__':\n",
    "    conf = {'/': {'request.dispatch': cherrypy.dispatch.MethodDispatcher(), 'tools.sessions.on':True}}\n",
    "    cherrypy.tree.mount(SMS(), '/devices', conf)\n",
    "    cherrypy.tree.mount(SpecificSMS(), '/device', conf)\n",
    "    cherrypy.config.update({'server.socket_host': '0.0.0.0'})\n",
    "    cherrypy.config.update({'server.socket_port': 8080})\n",
    "    cherrypy.engine.start()\n",
    "    cherrypy.engine.block()"
   ]
  }
 ],
 "metadata": {
  "kernelspec": {
   "display_name": "ml4iotenv",
   "language": "python",
   "name": "python3"
  },
  "language_info": {
   "codemirror_mode": {
    "name": "ipython",
    "version": 3
   },
   "file_extension": ".py",
   "mimetype": "text/x-python",
   "name": "python",
   "nbconvert_exporter": "python",
   "pygments_lexer": "ipython3",
   "version": "3.8.10"
  },
  "orig_nbformat": 4,
  "vscode": {
   "interpreter": {
    "hash": "26573a9fad40d086beb2339af52d84c427e9bce5fee7d856f858bff4ce858c27"
   }
  }
 },
 "nbformat": 4,
 "nbformat_minor": 2
}
