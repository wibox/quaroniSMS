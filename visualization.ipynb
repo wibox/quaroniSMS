{
 "cells": [
  {
   "cell_type": "code",
   "execution_count": 1,
   "metadata": {},
   "outputs": [],
   "source": [
    "import requests"
   ]
  },
  {
   "cell_type": "code",
   "execution_count": null,
   "metadata": {},
   "outputs": [],
   "source": [
    "def get_devices(endpoint:str, host:str = \"http://localhost:8080/\"):\n",
    "    response = requests.get(host+endpoint)\n",
    "    if response.status_code == 200:\n",
    "        response_dict = response.json()\n",
    "        print(f\"OK \\n LIST OF SMS DEVICES: \\n {response_dict}\")\n",
    "        return response_dict\n",
    "    else:\n",
    "        return 0\n",
    "\n",
    "def retrieve_device_information(query,device:str, endpoint:str=\"device/\", host:str=\"http://localhost:8080/\"):\n",
    "    response = requests.get(host+endpoint+device+f\"?from={query[0]}&to={query[1]}\")\n",
    "    if response.status_code == 400 or response.status_code == 404:\n",
    "        print(f\"Error in handling the request: status code = {response.status_code}\")\n",
    "    else:\n",
    "        data = response.json()\n",
    "        speed_label = data[\"speed_label\"]\n",
    "        timestamps = data[\"timestamps\"]\n",
    "        return {\"speed_label\":speed_label, \"timestamps\":timestamps}\n",
    "\n",
    "def delete_device_information(device:str, endpoint:str=\"device/\", host:str=\"http://localhost:8080/\"):\n",
    "    response = requests.delete(host+endpoint+device)\n",
    "    if response.status_code == 400 or response.status_code == 404:\n",
    "        print(f\"Error in handling the request: status code = {response.status_code}\")\n",
    "    else:\n",
    "        print(f\"Device:{device} information deletion ended successfully\")"
   ]
  }
 ],
 "metadata": {
  "kernelspec": {
   "display_name": "ml4iotenv",
   "language": "python",
   "name": "python3"
  },
  "language_info": {
   "codemirror_mode": {
    "name": "ipython",
    "version": 3
   },
   "file_extension": ".py",
   "mimetype": "text/x-python",
   "name": "python",
   "nbconvert_exporter": "python",
   "pygments_lexer": "ipython3",
   "version": "3.8.10"
  },
  "orig_nbformat": 4,
  "vscode": {
   "interpreter": {
    "hash": "26573a9fad40d086beb2339af52d84c427e9bce5fee7d856f858bff4ce858c27"
   }
  }
 },
 "nbformat": 4,
 "nbformat_minor": 2
}
