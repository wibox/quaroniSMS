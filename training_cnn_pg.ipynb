{
 "cells": [
  {
   "cell_type": "code",
   "execution_count": 1,
   "metadata": {},
   "outputs": [],
   "source": [
    "import os\n",
    "os.environ['TF_CPP_MIN_LOG_LEVEL'] = '3' \n",
    "import tensorflow as tf\n",
    "from preprocessing import *\n",
    "import tensorflow_model_optimization as tfmot\n",
    "from sklearn.model_selection import ParameterGrid\n",
    "from time import time\n",
    "import zipfile\n",
    "import numpy as np\n",
    "from functools import partial"
   ]
  },
  {
   "cell_type": "code",
   "execution_count": 2,
   "metadata": {},
   "outputs": [],
   "source": [
    "! rm -rf formatted_data\n",
    "! rm -rf complete_test_data\n",
    "! rm -rf complete_training_data\n",
    "! rm -rf complete_validation_data"
   ]
  },
  {
   "cell_type": "code",
   "execution_count": 3,
   "metadata": {},
   "outputs": [],
   "source": [
    "crop_time = 3\n",
    "window_length = 3\n",
    "overlap_size = 1 #seconds"
   ]
  },
  {
   "cell_type": "code",
   "execution_count": 4,
   "metadata": {},
   "outputs": [
    {
     "name": "stdout",
     "output_type": "stream",
     "text": [
      "Loading audio files informations...\n",
      "Found 399 audio files.\n",
      "Cropping audio files to 3 seconds before and after passing time. Saving to ./formatted_data/\n"
     ]
    },
    {
     "name": "stderr",
     "output_type": "stream",
     "text": [
      "  0%|          | 0/399 [00:00<?, ?it/s]/home/sbenghus/Desktop/quaroniSMS/preprocessing.py:148: WavFileWarning: Chunk (non-data) not understood, skipping it.\n",
      "  input_audiofile = siw.read(audio_path)\n",
      "100%|██████████| 399/399 [00:01<00:00, 222.85it/s]\n"
     ]
    }
   ],
   "source": [
    "df = DatasetFormatter(crop_time=crop_time, window_length=window_length, overlap_size=overlap_size)\n",
    "df.format_dataset(strategy=\"window\")"
   ]
  },
  {
   "cell_type": "code",
   "execution_count": 5,
   "metadata": {},
   "outputs": [],
   "source": [
    "! mkdir complete_training_data\n",
    "! mkdir complete_validation_data\n",
    "! mkdir complete_test_data\n",
    "\n",
    "! mv formatted_data/formatted_VWPassat/* complete_test_data\n",
    "! mv formatted_data/formatted_CitroenC4Picasso/* complete_validation_data\n",
    "! mv formatted_data/*/* complete_training_data"
   ]
  },
  {
   "cell_type": "code",
   "execution_count": 6,
   "metadata": {},
   "outputs": [
    {
     "name": "stdout",
     "output_type": "stream",
     "text": [
      "zsh:1: no matches found: saved_models/*\n",
      "zsh:1: no matches found: tflite_models/*\n"
     ]
    }
   ],
   "source": [
    "! rm -rf saved_models/*\n",
    "! rm -rf tflite_models/*"
   ]
  },
  {
   "cell_type": "code",
   "execution_count": 7,
   "metadata": {},
   "outputs": [],
   "source": [
    "def get_model(SHAPE, alpha, num_hidden_layers):\n",
    "    \n",
    "    model = tf.keras.Sequential()\n",
    "    model.add(tf.keras.layers.Input(shape=SHAPE))\n",
    "    for layer_counter in range(num_hidden_layers):\n",
    "        if layer_counter == 0:\n",
    "            model.add(tf.keras.layers.Conv2D(filters=128*alpha, kernel_size=[3, 3], strides=[2, 2],\n",
    "                use_bias=False, padding='valid'))\n",
    "        else:\n",
    "            model.add(tf.keras.layers.Conv2D(filters=128*alpha, kernel_size=[3, 3], strides=[1, 1],\n",
    "                use_bias=False, padding='same'))\n",
    "        model.add(tf.keras.layers.BatchNormalization())\n",
    "        model.add(tf.keras.layers.ReLU())\n",
    "    model.add(tf.keras.layers.GlobalAveragePooling2D())\n",
    "    model.add(tf.keras.layers.Dense(units=len(LABELS)))\n",
    "    model.add(tf.keras.layers.Softmax())\n",
    "    \n",
    "    return model"
   ]
  },
  {
   "cell_type": "code",
   "execution_count": 8,
   "metadata": {},
   "outputs": [
    {
     "name": "stdout",
     "output_type": "stream",
     "text": [
      "Possible configurations found: 512\n"
     ]
    }
   ],
   "source": [
    "PARAMS = {\n",
    "    'frame_length_in_s': [0.02, 0.04], #[0.02,0.04,0.06,0.08],\n",
    "    'frame_step_in_s': [0.01, 0.02], #[0.005, 0.01, 0.015, 0.02],\n",
    "    'num_mel_bins': [10, 20], #[20, 30, 40],\n",
    "    'lower_frequency': [15, 20], #[10,20,30],\n",
    "    'upper_frequency': [30, 60], #[3000, 4000, 5000],\n",
    "    'batch_size': [5, 7], #[10, 20, 30],\n",
    "    'epochs': [10, 15], #[10, 20, 30],\n",
    "    'initial_learning_rate': [0.01], #[0.005, 0.01, 0.02],\n",
    "    'end_learning_rate': [1.e-5], #[1.e-3, 1.e-5, 1.e-6],\n",
    "    'num_mfccs_features' : [-1], #[10, 15, -1]\n",
    "    'alpha': [0.1, 0.15], #[0.15, 0.25, 0.33]\n",
    "    'num_hidden_layers':[5, 7]\n",
    "}\n",
    "\n",
    "configurations = {\"configurations\": []}\n",
    "my_configs = ParameterGrid(PARAMS)\n",
    "for config in my_configs:\n",
    "    configurations[\"configurations\"].append(config)\n",
    "\n",
    "print(\"Possible configurations found: {}\".format(len(configurations[\"configurations\"])))"
   ]
  },
  {
   "cell_type": "code",
   "execution_count": 9,
   "metadata": {},
   "outputs": [],
   "source": [
    "def _log_header_to_csv(filename : str, header : str) -> bool:\n",
    "    completed = False\n",
    "    try:\n",
    "        with open(filename, \"w\") as header_fp:\n",
    "            header_fp.write(header + \"\\n\")\n",
    "        completed = True\n",
    "    except Exception as e:\n",
    "        print(e.format_exc())\n",
    "    finally:\n",
    "        return completed\n",
    "\n",
    "def _log_output_to_csv(filename : str, content : str) -> bool:\n",
    "    completed = False\n",
    "    try:\n",
    "        with open(filename, \"a\") as log_fp:\n",
    "            log_fp.write(content + \"\\n\")\n",
    "        completed = True\n",
    "    except Exception as e:\n",
    "        print(e.format_exc())\n",
    "    finally:\n",
    "        return completed"
   ]
  },
  {
   "cell_type": "code",
   "execution_count": 10,
   "metadata": {},
   "outputs": [
    {
     "name": "stderr",
     "output_type": "stream",
     "text": [
      "  0%|          | 0/512 [00:00<?, ?it/s]"
     ]
    },
    {
     "name": "stdout",
     "output_type": "stream",
     "text": [
      "{'alpha': 0.1, 'batch_size': 5, 'end_learning_rate': 1e-05, 'epochs': 10, 'frame_length_in_s': 0.02, 'frame_step_in_s': 0.01, 'initial_learning_rate': 0.01, 'lower_frequency': 15, 'num_hidden_layers': 5, 'num_mel_bins': 10, 'num_mfccs_features': -1, 'upper_frequency': 30}\n"
     ]
    },
    {
     "name": "stderr",
     "output_type": "stream",
     "text": [
      "  0%|          | 0/512 [00:00<?, ?it/s]\n"
     ]
    },
    {
     "ename": "InvalidArgumentError",
     "evalue": "{{function_node __wrapped__IteratorGetNext_output_types_2_device_/job:localhost/replica:0/task:0/device:CPU:0}} Index out of range using input dim 1; input has only 1 dims\n\t [[{{node strided_slice}}]] [Op:IteratorGetNext]",
     "output_type": "error",
     "traceback": [
      "\u001b[0;31m---------------------------------------------------------------------------\u001b[0m",
      "\u001b[0;31mInvalidArgumentError\u001b[0m                      Traceback (most recent call last)",
      "\u001b[1;32m/home/sbenghus/Desktop/quaroniSMS/training_cnn_pg.ipynb Cella 10\u001b[0m in \u001b[0;36m3\n\u001b[1;32m     <a href='vscode-notebook-cell:/home/sbenghus/Desktop/quaroniSMS/training_cnn_pg.ipynb#X12sZmlsZQ%3D%3D?line=33'>34</a>\u001b[0m get_frozen_log_mel_spectrogram \u001b[39m=\u001b[39m partial(get_log_mel_spectrogram, \u001b[39m*\u001b[39m\u001b[39m*\u001b[39mMEL_LOG_ARGS)\n\u001b[1;32m     <a href='vscode-notebook-cell:/home/sbenghus/Desktop/quaroniSMS/training_cnn_pg.ipynb#X12sZmlsZQ%3D%3D?line=34'>35</a>\u001b[0m train_mel_ds \u001b[39m=\u001b[39m train_file_ds\u001b[39m.\u001b[39mmap(get_frozen_log_mel_spectrogram)\n\u001b[0;32m---> <a href='vscode-notebook-cell:/home/sbenghus/Desktop/quaroniSMS/training_cnn_pg.ipynb#X12sZmlsZQ%3D%3D?line=35'>36</a>\u001b[0m \u001b[39mfor\u001b[39;00m spectrogram, label \u001b[39min\u001b[39;00m train_mel_ds\u001b[39m.\u001b[39mtake(\u001b[39m1\u001b[39m):\n\u001b[1;32m     <a href='vscode-notebook-cell:/home/sbenghus/Desktop/quaroniSMS/training_cnn_pg.ipynb#X12sZmlsZQ%3D%3D?line=36'>37</a>\u001b[0m     SHAPE \u001b[39m=\u001b[39m spectrogram\u001b[39m.\u001b[39mshape\n\u001b[1;32m     <a href='vscode-notebook-cell:/home/sbenghus/Desktop/quaroniSMS/training_cnn_pg.ipynb#X12sZmlsZQ%3D%3D?line=38'>39</a>\u001b[0m \u001b[39mdef\u001b[39;00m \u001b[39mpreprocess_with_resized_mel\u001b[39m(filename):\n",
      "File \u001b[0;32m~/Desktop/quaroniSMS/.venv/lib/python3.10/site-packages/tensorflow/python/data/ops/iterator_ops.py:766\u001b[0m, in \u001b[0;36mOwnedIterator.__next__\u001b[0;34m(self)\u001b[0m\n\u001b[1;32m    764\u001b[0m \u001b[39mdef\u001b[39;00m \u001b[39m__next__\u001b[39m(\u001b[39mself\u001b[39m):\n\u001b[1;32m    765\u001b[0m   \u001b[39mtry\u001b[39;00m:\n\u001b[0;32m--> 766\u001b[0m     \u001b[39mreturn\u001b[39;00m \u001b[39mself\u001b[39;49m\u001b[39m.\u001b[39;49m_next_internal()\n\u001b[1;32m    767\u001b[0m   \u001b[39mexcept\u001b[39;00m errors\u001b[39m.\u001b[39mOutOfRangeError:\n\u001b[1;32m    768\u001b[0m     \u001b[39mraise\u001b[39;00m \u001b[39mStopIteration\u001b[39;00m\n",
      "File \u001b[0;32m~/Desktop/quaroniSMS/.venv/lib/python3.10/site-packages/tensorflow/python/data/ops/iterator_ops.py:749\u001b[0m, in \u001b[0;36mOwnedIterator._next_internal\u001b[0;34m(self)\u001b[0m\n\u001b[1;32m    746\u001b[0m \u001b[39m# TODO(b/77291417): This runs in sync mode as iterators use an error status\u001b[39;00m\n\u001b[1;32m    747\u001b[0m \u001b[39m# to communicate that there is no more data to iterate over.\u001b[39;00m\n\u001b[1;32m    748\u001b[0m \u001b[39mwith\u001b[39;00m context\u001b[39m.\u001b[39mexecution_mode(context\u001b[39m.\u001b[39mSYNC):\n\u001b[0;32m--> 749\u001b[0m   ret \u001b[39m=\u001b[39m gen_dataset_ops\u001b[39m.\u001b[39;49miterator_get_next(\n\u001b[1;32m    750\u001b[0m       \u001b[39mself\u001b[39;49m\u001b[39m.\u001b[39;49m_iterator_resource,\n\u001b[1;32m    751\u001b[0m       output_types\u001b[39m=\u001b[39;49m\u001b[39mself\u001b[39;49m\u001b[39m.\u001b[39;49m_flat_output_types,\n\u001b[1;32m    752\u001b[0m       output_shapes\u001b[39m=\u001b[39;49m\u001b[39mself\u001b[39;49m\u001b[39m.\u001b[39;49m_flat_output_shapes)\n\u001b[1;32m    754\u001b[0m   \u001b[39mtry\u001b[39;00m:\n\u001b[1;32m    755\u001b[0m     \u001b[39m# Fast path for the case `self._structure` is not a nested structure.\u001b[39;00m\n\u001b[1;32m    756\u001b[0m     \u001b[39mreturn\u001b[39;00m \u001b[39mself\u001b[39m\u001b[39m.\u001b[39m_element_spec\u001b[39m.\u001b[39m_from_compatible_tensor_list(ret)  \u001b[39m# pylint: disable=protected-access\u001b[39;00m\n",
      "File \u001b[0;32m~/Desktop/quaroniSMS/.venv/lib/python3.10/site-packages/tensorflow/python/ops/gen_dataset_ops.py:3017\u001b[0m, in \u001b[0;36miterator_get_next\u001b[0;34m(iterator, output_types, output_shapes, name)\u001b[0m\n\u001b[1;32m   3015\u001b[0m   \u001b[39mreturn\u001b[39;00m _result\n\u001b[1;32m   3016\u001b[0m \u001b[39mexcept\u001b[39;00m _core\u001b[39m.\u001b[39m_NotOkStatusException \u001b[39mas\u001b[39;00m e:\n\u001b[0;32m-> 3017\u001b[0m   _ops\u001b[39m.\u001b[39;49mraise_from_not_ok_status(e, name)\n\u001b[1;32m   3018\u001b[0m \u001b[39mexcept\u001b[39;00m _core\u001b[39m.\u001b[39m_FallbackException:\n\u001b[1;32m   3019\u001b[0m   \u001b[39mpass\u001b[39;00m\n",
      "File \u001b[0;32m~/Desktop/quaroniSMS/.venv/lib/python3.10/site-packages/tensorflow/python/framework/ops.py:7209\u001b[0m, in \u001b[0;36mraise_from_not_ok_status\u001b[0;34m(e, name)\u001b[0m\n\u001b[1;32m   7207\u001b[0m \u001b[39mdef\u001b[39;00m \u001b[39mraise_from_not_ok_status\u001b[39m(e, name):\n\u001b[1;32m   7208\u001b[0m   e\u001b[39m.\u001b[39mmessage \u001b[39m+\u001b[39m\u001b[39m=\u001b[39m (\u001b[39m\"\u001b[39m\u001b[39m name: \u001b[39m\u001b[39m\"\u001b[39m \u001b[39m+\u001b[39m name \u001b[39mif\u001b[39;00m name \u001b[39mis\u001b[39;00m \u001b[39mnot\u001b[39;00m \u001b[39mNone\u001b[39;00m \u001b[39melse\u001b[39;00m \u001b[39m\"\u001b[39m\u001b[39m\"\u001b[39m)\n\u001b[0;32m-> 7209\u001b[0m   \u001b[39mraise\u001b[39;00m core\u001b[39m.\u001b[39m_status_to_exception(e) \u001b[39mfrom\u001b[39;00m \u001b[39mNone\u001b[39;00m\n",
      "\u001b[0;31mInvalidArgumentError\u001b[0m: {{function_node __wrapped__IteratorGetNext_output_types_2_device_/job:localhost/replica:0/task:0/device:CPU:0}} Index out of range using input dim 1; input has only 1 dims\n\t [[{{node strided_slice}}]] [Op:IteratorGetNext]"
     ]
    }
   ],
   "source": [
    "header = ','.join(k for k in PARAMS.keys()) + \",\" + ','.join([\n",
    "    \"accuracy\", \"avg_preprocessing_latency\", \"avg_model_latency\", \\\n",
    "         \"median_total_latency\", \"model_size\", \"compressed_model_size\"\n",
    "         ])\n",
    "\n",
    "_log_header_to_csv(filename=\"results.csv\", header=header)\n",
    "\n",
    "train_file_ds = tf.data.Dataset.list_files(['complete_training_data/*.wav'])\n",
    "validation_file_ds = tf.data.Dataset.list_files(['complete_validation_data/*.wav'])\n",
    "test_file_ds = tf.data.Dataset.list_files(['complete_test_data/*.wav'])\n",
    "\n",
    "for idx in tqdm(range(len(configurations[\"configurations\"]))):\n",
    "    config = configurations[\"configurations\"][idx]\n",
    "    print(config)\n",
    "\n",
    "    MEL_LOG_ARGS = {\n",
    "        'frame_length_in_s': config['frame_length_in_s'],\n",
    "        'frame_step_in_s': config['frame_step_in_s'],\n",
    "        'num_mel_bins': config['num_mel_bins'],\n",
    "        'lower_frequency': config['lower_frequency'],\n",
    "        'upper_frequency': config['upper_frequency']\n",
    "    }\n",
    "    TRAINING_ARGS= {\n",
    "        'batch_size': config['batch_size'],\n",
    "        'epochs': config['epochs'],\n",
    "        'initial_learning_rate': config['initial_learning_rate'],\n",
    "        'end_learning_rate': config['end_learning_rate']\n",
    "    }\n",
    "\n",
    "    batch_size = TRAINING_ARGS['batch_size']\n",
    "    epoch = TRAINING_ARGS['epochs']\n",
    "\n",
    "\n",
    "    get_frozen_log_mel_spectrogram = partial(get_log_mel_spectrogram, **MEL_LOG_ARGS)\n",
    "    train_mel_ds = train_file_ds.map(get_frozen_log_mel_spectrogram)\n",
    "    for spectrogram, label in train_mel_ds.take(1):\n",
    "        SHAPE = spectrogram.shape\n",
    "\n",
    "    def preprocess_with_resized_mel(filename):\n",
    "        log_mel_spectrogram, label = get_frozen_log_mel_spectrogram(filename)\n",
    "        log_mel_spectrogram.set_shape(SHAPE)\n",
    "        mfccs = tf.signal.mfccs_from_log_mel_spectrograms(log_mel_spectrogram)[..., :]\n",
    "        mfccs = tf.expand_dims(mfccs, -1)\n",
    "        mfccs = tf.image.resize(mfccs, [32, 32])\n",
    "        label_id = tf.argmax(label == LABELS)\n",
    "\n",
    "        return mfccs, label_id\n",
    "\n",
    "    train_ds = train_file_ds.map(preprocess_with_resized_mel).batch(batch_size)\n",
    "    validation_ds = validation_file_ds.map(preprocess_with_resized_mel).batch(batch_size)\n",
    "    #test_ds = test_file_ds.map(preprocess_with_resized_mel).batch(batch_size)\n",
    "\n",
    "    for example_batch, example_labels in train_ds.take(1):\n",
    "        print(example_batch.shape)\n",
    "        print(example_labels)\n",
    "\n",
    "    model = get_model(SHAPE=example_batch.shape[1:], alpha=config['alpha'], num_hidden_layers=config['num_hidden_layers'])\n",
    "    # model.summary()\n",
    "\n",
    "    prune_low_magnitude = tfmot.sparsity.keras.prune_low_magnitude\n",
    "\n",
    "    begin_step = int(len(train_ds) * epoch * 0.2)\n",
    "    end_step = int(len(train_ds) * epoch)\n",
    "    final_sparsity=0.70\n",
    "    pruning_params = {\n",
    "        'pruning_schedule': tfmot.sparsity.keras.PolynomialDecay(\n",
    "            initial_sparsity=0.20,\n",
    "            final_sparsity=final_sparsity,\n",
    "            begin_step=begin_step,\n",
    "            end_step=end_step\n",
    "        )\n",
    "    }\n",
    "\n",
    "    model_for_pruning = prune_low_magnitude(model, **pruning_params)\n",
    "\n",
    "    loss = tf.losses.SparseCategoricalCrossentropy(from_logits=False)\n",
    "\n",
    "    initial_learning_rate = TRAINING_ARGS['initial_learning_rate']\n",
    "    end_learning_rate = TRAINING_ARGS['end_learning_rate']\n",
    "\n",
    "    linear_decay = tf.keras.optimizers.schedules.PolynomialDecay(\n",
    "        initial_learning_rate=initial_learning_rate,\n",
    "        end_learning_rate=end_learning_rate,\n",
    "        decay_steps=len(train_ds) * epoch,\n",
    "    )\n",
    "    optimizer = tf.optimizers.Adam(learning_rate=linear_decay)\n",
    "    metrics = [tf.metrics.SparseCategoricalAccuracy()]\n",
    "    callbacks = [tfmot.sparsity.keras.UpdatePruningStep()]\n",
    "    model_for_pruning.compile(loss=loss, optimizer=optimizer, metrics=metrics)\n",
    "\n",
    "    history = model_for_pruning.fit(train_ds, epochs=epoch, validation_data=validation_ds, callbacks=callbacks)\n",
    "    # computing statistics\n",
    "    # test_loss, test_accuracy = model_for_pruning.evaluate(test_ds)\n",
    "    training_loss = history.history['loss'][-1]\n",
    "    training_accuracy = history.history['sparse_categorical_accuracy'][-1]\n",
    "    val_loss = history.history['val_loss'][-1]\n",
    "    val_accuracy = history.history['val_sparse_categorical_accuracy'][-1]\n",
    "    timestamp = int(time())\n",
    "\n",
    "    model_for_export = tfmot.sparsity.keras.strip_pruning(model_for_pruning)\n",
    "    saved_model_dir = f'./saved_models/{timestamp}'\n",
    "    if not os.path.exists(saved_model_dir):\n",
    "        os.makedirs(saved_model_dir)\n",
    "    model_for_export.save(saved_model_dir)\n",
    "\n",
    "    # model conversion to tf-lite format\n",
    "    MODEL_NAME = timestamp\n",
    "    ZIPPED_MODEL_NAME = MODEL_NAME\n",
    "    converter = tf.lite.TFLiteConverter.from_saved_model(f'./saved_models/{MODEL_NAME}')\n",
    "    tflite_model = converter.convert()\n",
    "\n",
    "    # saving tf-lite formatted model\n",
    "    tflite_models_dir = './tflite_models'\n",
    "    if not os.path.exists(tflite_models_dir):\n",
    "        os.makedirs(tflite_models_dir)\n",
    "    tflite_model_name = os.path.join(tflite_models_dir, f'{MODEL_NAME}.tflite')\n",
    "    with open(tflite_model_name, 'wb') as fp:\n",
    "        fp.write(tflite_model)\n",
    "\n",
    "    # save the zipped model\n",
    "    if not os.path.exists(\"./zipped_models\"):\n",
    "        os.makedirs(\"./zipped_models\")\n",
    "    with zipfile.ZipFile(f'{os.path.join(\"./zipped_models\",str(ZIPPED_MODEL_NAME))}.zip', 'w', compression=zipfile.ZIP_DEFLATED) as f:\n",
    "        f.write(tflite_model_name)\n",
    "\n",
    "    # performing inference\n",
    "    interpreter = tf.lite.Interpreter(model_path=f'tflite_models/{MODEL_NAME}.tflite')\n",
    "    interpreter.allocate_tensors()\n",
    "\n",
    "    input_details = interpreter.get_input_details()\n",
    "    output_details = interpreter.get_output_details()\n",
    "\n",
    "    avg_preprocessing_latency = 0.0\n",
    "    avg_model_latency = 0.0\n",
    "    latencies = []\n",
    "    accuracy = 0.0\n",
    "\n",
    "    start_map = time()\n",
    "    mapped_test_ds = test_file_ds.map(get_frozen_log_mel_spectrogram)\n",
    "    end_map =  time()\n",
    "    avg_map_time = (end_map - start_map)/len(test_file_ds)\n",
    "\n",
    "    # filenames = glob(\"complete_test_data/*.wav\")\n",
    "\n",
    "    # for fname in test_file_ds:\n",
    "    for log_mel_spectrogram, true_label in mapped_test_ds:\n",
    "\n",
    "        start_preprocess = time()\n",
    "\n",
    "        #log_mel_spectrogram, true_label = get_frozen_log_mel_spectrogram(fname)\n",
    "\n",
    "        mfccs = tf.signal.mfccs_from_log_mel_spectrograms(log_mel_spectrogram)[..., :config['num_mfccs_features']]\n",
    "        mfccs = tf.expand_dims(mfccs, 0)\n",
    "        mfccs = tf.expand_dims(mfccs, -1)\n",
    "        mfccs = tf.image.resize(mfccs, [32, 32])\n",
    "\n",
    "        end_preprocess = time()\n",
    "        \n",
    "        interpreter.set_tensor(input_details[0]['index'], mfccs) \n",
    "        interpreter.invoke()\n",
    "        output = interpreter.get_tensor(output_details[0]['index'])\n",
    "\n",
    "        end_inference = time()\n",
    "\n",
    "        top_index = np.argmax(output[0])\n",
    "        predicted_label = LABELS[top_index]\n",
    "\n",
    "        accuracy += true_label.numpy().decode() == predicted_label\n",
    "        avg_preprocessing_latency += avg_map_time + (end_preprocess - start_preprocess)\n",
    "        avg_model_latency += end_inference - end_preprocess\n",
    "        latencies.append(end_inference - start_preprocess)\n",
    "\n",
    "    accuracy /= len(mapped_test_ds)\n",
    "    avg_preprocessing_latency /= len(mapped_test_ds)\n",
    "    avg_model_latency /= len(mapped_test_ds)\n",
    "    median_total_latency = np.median(latencies)\n",
    "\n",
    "    model_size = os.path.getsize(f'tflite_models/{MODEL_NAME}.tflite')\n",
    "    compressed_model_size = os.path.getsize(f\"zipped_models/{ZIPPED_MODEL_NAME}.zip\")\n",
    "\n",
    "    content = f\"{config['frame_length_in_s']},\\\n",
    "        {config['frame_step_in_s']},{config['num_mel_bins']},\\\n",
    "            {config['lower_frequency']},{config['upper_frequency']},\\\n",
    "                {config['batch_size']},{config['epochs']},{config['initial_learning_rate']},\\\n",
    "                    {config['end_learning_rate']},{config['num_mfccs_features']},\\\n",
    "                        {config['alpha']},{100 * accuracy:.3f},{1000 * avg_preprocessing_latency:.1f},\\\n",
    "                            {1000 * avg_model_latency:.1f},{1000 * median_total_latency:.1f},\\\n",
    "                                {model_size / 2 ** 10:.1f},{compressed_model_size / 2 ** 10:.1f}\\n\"\n",
    "\n",
    "    _log_output_to_csv(filename=\"results.csv\", content=content)"
   ]
  },
  {
   "cell_type": "code",
   "execution_count": null,
   "metadata": {},
   "outputs": [],
   "source": []
  }
 ],
 "metadata": {
  "kernelspec": {
   "display_name": "ml4iot",
   "language": "python",
   "name": "python3"
  },
  "language_info": {
   "codemirror_mode": {
    "name": "ipython",
    "version": 3
   },
   "file_extension": ".py",
   "mimetype": "text/x-python",
   "name": "python",
   "nbconvert_exporter": "python",
   "pygments_lexer": "ipython3",
   "version": "3.10.7"
  },
  "orig_nbformat": 4,
  "vscode": {
   "interpreter": {
    "hash": "3e9cb38f4d69ed12a279fd49931a48d46a5ea383acdab751dc059544730dcd86"
   }
  }
 },
 "nbformat": 4,
 "nbformat_minor": 2
}
