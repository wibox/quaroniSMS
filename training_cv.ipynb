{
 "cells": [
  {
   "cell_type": "code",
   "execution_count": 8,
   "metadata": {},
   "outputs": [],
   "source": [
    "import os\n",
    "os.environ['TF_CPP_MIN_LOG_LEVEL'] = '3' \n",
    "import tensorflow as tf\n",
    "tf.compat.v1.enable_eager_execution()\n",
    "from preprocessing import *\n",
    "from sklearn.model_selection import KFold\n",
    "from glob import glob"
   ]
  },
  {
   "cell_type": "code",
   "execution_count": 9,
   "metadata": {},
   "outputs": [],
   "source": [
    "train_file_ds = tf.data.Dataset.list_files(['formatted_data/*/*.wav'])\n",
    "batch_size = 5"
   ]
  },
  {
   "cell_type": "code",
   "execution_count": 10,
   "metadata": {},
   "outputs": [],
   "source": [
    "# train_ds = train_file_ds.map(preprocess_with_resized_mel).batch(batch_size)\n",
    "\n",
    "# for x, sampling_rate, label in train_ds.take(1):\n",
    "#     print(np.max(x), np.min(x))\n",
    "#     print(f'Data shape: {x.shape} - Sampling rate: {sampling_rate.numpy()} - Label: {label.numpy()}') # se non .batch c'è .decode()"
   ]
  },
  {
   "cell_type": "code",
   "execution_count": 11,
   "metadata": {},
   "outputs": [],
   "source": [
    "model = tf.keras.Sequential([\n",
    "    tf.keras.layers.Input(shape=(batch_size, 192000, 2)),\n",
    "    tf.keras.layers.Conv2D(filters=128, kernel_size=[3, 3], strides=[2, 2],\n",
    "        use_bias=False, padding='valid'),\n",
    "    tf.keras.layers.BatchNormalization(),\n",
    "    tf.keras.layers.ReLU(),\n",
    "    tf.keras.layers.Conv2D(filters=128, kernel_size=[3, 3], strides=[1, 1],\n",
    "        use_bias=False, padding='same'),\n",
    "    tf.keras.layers.BatchNormalization(),\n",
    "    tf.keras.layers.ReLU(),\n",
    "    tf.keras.layers.Conv2D(filters=128, kernel_size=[3, 3], strides=[1, 1],\n",
    "        use_bias=False, padding='same'),\n",
    "    tf.keras.layers.BatchNormalization(),\n",
    "    tf.keras.layers.ReLU(),\n",
    "    tf.keras.layers.GlobalAveragePooling2D(),\n",
    "    tf.keras.layers.Dense(units=len(LABELS)),\n",
    "    tf.keras.layers.Softmax()\n",
    "    ])\n",
    "\n",
    "loss = tf.losses.SparseCategoricalCrossentropy(from_logits=False)\n",
    "optimizer = tf.optimizers.Adam(learning_rate=1e-5)\n",
    "metrics = [tf.metrics.SparseCategoricalAccuracy()]"
   ]
  },
  {
   "cell_type": "code",
   "execution_count": 12,
   "metadata": {},
   "outputs": [
    {
     "name": "stdout",
     "output_type": "stream",
     "text": [
      "QUA  Tensor(\"Shape:0\", shape=(None,), dtype=int32) <unknown>\n",
      "QUA  Tensor(\"Abs:0\", dtype=float32)\n"
     ]
    },
    {
     "data": {
      "text/plain": [
       "TensorShape([192000, 0, 40])"
      ]
     },
     "execution_count": 12,
     "metadata": {},
     "output_type": "execute_result"
    }
   ],
   "source": [
    "from functools import partial\n",
    "\n",
    "MEL_LOG_ARGS = {\n",
    "    'downsampling_rate': 48000,\n",
    "    'frame_length_in_s': 0.04,\n",
    "    'frame_step_in_s': 0.02,\n",
    "    'num_mel_bins': 40,\n",
    "    'lower_frequency': 20,\n",
    "    'upper_frequency': 4000\n",
    "}\n",
    "\n",
    "get_frozen_log_mel_spectrogram = partial(get_log_mel_spectrogram, **MEL_LOG_ARGS)\n",
    "train_mel_ds = train_file_ds.map(get_frozen_log_mel_spectrogram)\n",
    "for spectrogram, label in train_mel_ds.take(1):\n",
    "    SHAPE = spectrogram.shape\n",
    "SHAPE\n"
   ]
  },
  {
   "cell_type": "code",
   "execution_count": 13,
   "metadata": {},
   "outputs": [],
   "source": [
    "def preprocess_with_resized_mel(filename):#, SHAPE):\n",
    "    signal, label = get_frozen_log_mel_spectrogram(filename, downsampling_rate=48000, frame_length_in_s=0.04, frame_step_in_s=0.02, num_mel_bins=40, lower_frequency=20, upper_frequency=4000)\n",
    "    signal.set_shape(SHAPE)\n",
    "    print(tf.shape(signal), signal.shape)\n",
    "    print(signal)\n",
    "    mfccs = tf.signal.mfccs_from_log_mel_spectrograms(signal)[..., :]\n",
    "    #mfccs = tf.expand_dims(mfccs, -1)\n",
    "    mfccs = tf.image.resize(mfccs, [32, 32])\n",
    "    label_id = tf.argmax(label == LABELS)\n",
    "\n",
    "    return mfccs, label_id"
   ]
  },
  {
   "cell_type": "code",
   "execution_count": 14,
   "metadata": {},
   "outputs": [
    {
     "name": "stdout",
     "output_type": "stream",
     "text": [
      "QUA  Tensor(\"Shape:0\", shape=(None,), dtype=int32) <unknown>\n",
      "QUA  Tensor(\"Abs:0\", dtype=float32)\n",
      "Tensor(\"Shape_1:0\", shape=(3,), dtype=int32) (192000, 0, 40)\n",
      "Tensor(\"Log:0\", shape=(192000, 0, 40), dtype=float32)\n",
      "QUA  Tensor(\"Shape:0\", shape=(None,), dtype=int32) <unknown>\n",
      "QUA  Tensor(\"Abs:0\", dtype=float32)\n",
      "Tensor(\"Shape_1:0\", shape=(3,), dtype=int32) (192000, 0, 40)\n",
      "Tensor(\"Log:0\", shape=(192000, 0, 40), dtype=float32)\n",
      "<TakeDataset element_spec=(TensorSpec(shape=(None, 32, 32, 40), dtype=tf.float32, name=None), TensorSpec(shape=(None,), dtype=tf.int64, name=None))>\n"
     ]
    },
    {
     "ename": "InvalidArgumentError",
     "evalue": "{{function_node __wrapped__IteratorGetNext_output_types_2_device_/job:localhost/replica:0/task:0/device:CPU:0}} Input dimension 2 must have length of at least 80 but got: 40\n\t [[{{node mfccs_from_log_mel_spectrograms/dct/rfft}}]] [Op:IteratorGetNext]",
     "output_type": "error",
     "traceback": [
      "\u001b[0;31m---------------------------------------------------------------------------\u001b[0m",
      "\u001b[0;31mInvalidArgumentError\u001b[0m                      Traceback (most recent call last)",
      "Cell \u001b[0;32mIn[14], line 16\u001b[0m\n\u001b[1;32m     13\u001b[0m \u001b[39mprint\u001b[39m(train_ds\u001b[39m.\u001b[39mtake(\u001b[39m1\u001b[39m))\n\u001b[1;32m     15\u001b[0m \u001b[39m###\u001b[39;00m\n\u001b[0;32m---> 16\u001b[0m \u001b[39mfor\u001b[39;00m example_batch, example_labels \u001b[39min\u001b[39;00m train_ds\u001b[39m.\u001b[39mtake(\u001b[39m1\u001b[39m):\n\u001b[1;32m     17\u001b[0m     \u001b[39m#print(example_batch.shape)\u001b[39;00m\n\u001b[1;32m     18\u001b[0m     \u001b[39m#print(example_labels)\u001b[39;00m\n\u001b[1;32m     19\u001b[0m     \u001b[39mpass\u001b[39;00m\n\u001b[1;32m     21\u001b[0m model \u001b[39m=\u001b[39m tf\u001b[39m.\u001b[39mkeras\u001b[39m.\u001b[39mSequential([\n\u001b[1;32m     22\u001b[0m tf\u001b[39m.\u001b[39mkeras\u001b[39m.\u001b[39mlayers\u001b[39m.\u001b[39mInput(shape\u001b[39m=\u001b[39mexample_batch\u001b[39m.\u001b[39mshape[\u001b[39m1\u001b[39m:]),\n\u001b[1;32m     23\u001b[0m tf\u001b[39m.\u001b[39mkeras\u001b[39m.\u001b[39mlayers\u001b[39m.\u001b[39mConv2D(filters\u001b[39m=\u001b[39m\u001b[39m128\u001b[39m, kernel_size\u001b[39m=\u001b[39m[\u001b[39m3\u001b[39m, \u001b[39m3\u001b[39m], strides\u001b[39m=\u001b[39m[\u001b[39m2\u001b[39m, \u001b[39m2\u001b[39m],\n\u001b[0;32m   (...)\u001b[0m\n\u001b[1;32m     37\u001b[0m tf\u001b[39m.\u001b[39mkeras\u001b[39m.\u001b[39mlayers\u001b[39m.\u001b[39mSoftmax()\n\u001b[1;32m     38\u001b[0m ])\n",
      "File \u001b[0;32m~/ml4iot/ml4iot/lib/python3.8/site-packages/tensorflow/python/data/ops/iterator_ops.py:787\u001b[0m, in \u001b[0;36mOwnedIterator.__next__\u001b[0;34m(self)\u001b[0m\n\u001b[1;32m    785\u001b[0m \u001b[39mdef\u001b[39;00m \u001b[39m__next__\u001b[39m(\u001b[39mself\u001b[39m):\n\u001b[1;32m    786\u001b[0m   \u001b[39mtry\u001b[39;00m:\n\u001b[0;32m--> 787\u001b[0m     \u001b[39mreturn\u001b[39;00m \u001b[39mself\u001b[39;49m\u001b[39m.\u001b[39;49m_next_internal()\n\u001b[1;32m    788\u001b[0m   \u001b[39mexcept\u001b[39;00m errors\u001b[39m.\u001b[39mOutOfRangeError:\n\u001b[1;32m    789\u001b[0m     \u001b[39mraise\u001b[39;00m \u001b[39mStopIteration\u001b[39;00m\n",
      "File \u001b[0;32m~/ml4iot/ml4iot/lib/python3.8/site-packages/tensorflow/python/data/ops/iterator_ops.py:770\u001b[0m, in \u001b[0;36mOwnedIterator._next_internal\u001b[0;34m(self)\u001b[0m\n\u001b[1;32m    767\u001b[0m \u001b[39m# TODO(b/77291417): This runs in sync mode as iterators use an error status\u001b[39;00m\n\u001b[1;32m    768\u001b[0m \u001b[39m# to communicate that there is no more data to iterate over.\u001b[39;00m\n\u001b[1;32m    769\u001b[0m \u001b[39mwith\u001b[39;00m context\u001b[39m.\u001b[39mexecution_mode(context\u001b[39m.\u001b[39mSYNC):\n\u001b[0;32m--> 770\u001b[0m   ret \u001b[39m=\u001b[39m gen_dataset_ops\u001b[39m.\u001b[39;49miterator_get_next(\n\u001b[1;32m    771\u001b[0m       \u001b[39mself\u001b[39;49m\u001b[39m.\u001b[39;49m_iterator_resource,\n\u001b[1;32m    772\u001b[0m       output_types\u001b[39m=\u001b[39;49m\u001b[39mself\u001b[39;49m\u001b[39m.\u001b[39;49m_flat_output_types,\n\u001b[1;32m    773\u001b[0m       output_shapes\u001b[39m=\u001b[39;49m\u001b[39mself\u001b[39;49m\u001b[39m.\u001b[39;49m_flat_output_shapes)\n\u001b[1;32m    775\u001b[0m   \u001b[39mtry\u001b[39;00m:\n\u001b[1;32m    776\u001b[0m     \u001b[39m# Fast path for the case `self._structure` is not a nested structure.\u001b[39;00m\n\u001b[1;32m    777\u001b[0m     \u001b[39mreturn\u001b[39;00m \u001b[39mself\u001b[39m\u001b[39m.\u001b[39m_element_spec\u001b[39m.\u001b[39m_from_compatible_tensor_list(ret)  \u001b[39m# pylint: disable=protected-access\u001b[39;00m\n",
      "File \u001b[0;32m~/ml4iot/ml4iot/lib/python3.8/site-packages/tensorflow/python/ops/gen_dataset_ops.py:3017\u001b[0m, in \u001b[0;36miterator_get_next\u001b[0;34m(iterator, output_types, output_shapes, name)\u001b[0m\n\u001b[1;32m   3015\u001b[0m   \u001b[39mreturn\u001b[39;00m _result\n\u001b[1;32m   3016\u001b[0m \u001b[39mexcept\u001b[39;00m _core\u001b[39m.\u001b[39m_NotOkStatusException \u001b[39mas\u001b[39;00m e:\n\u001b[0;32m-> 3017\u001b[0m   _ops\u001b[39m.\u001b[39;49mraise_from_not_ok_status(e, name)\n\u001b[1;32m   3018\u001b[0m \u001b[39mexcept\u001b[39;00m _core\u001b[39m.\u001b[39m_FallbackException:\n\u001b[1;32m   3019\u001b[0m   \u001b[39mpass\u001b[39;00m\n",
      "File \u001b[0;32m~/ml4iot/ml4iot/lib/python3.8/site-packages/tensorflow/python/framework/ops.py:7215\u001b[0m, in \u001b[0;36mraise_from_not_ok_status\u001b[0;34m(e, name)\u001b[0m\n\u001b[1;32m   7213\u001b[0m \u001b[39mdef\u001b[39;00m \u001b[39mraise_from_not_ok_status\u001b[39m(e, name):\n\u001b[1;32m   7214\u001b[0m   e\u001b[39m.\u001b[39mmessage \u001b[39m+\u001b[39m\u001b[39m=\u001b[39m (\u001b[39m\"\u001b[39m\u001b[39m name: \u001b[39m\u001b[39m\"\u001b[39m \u001b[39m+\u001b[39m name \u001b[39mif\u001b[39;00m name \u001b[39mis\u001b[39;00m \u001b[39mnot\u001b[39;00m \u001b[39mNone\u001b[39;00m \u001b[39melse\u001b[39;00m \u001b[39m\"\u001b[39m\u001b[39m\"\u001b[39m)\n\u001b[0;32m-> 7215\u001b[0m   \u001b[39mraise\u001b[39;00m core\u001b[39m.\u001b[39m_status_to_exception(e) \u001b[39mfrom\u001b[39;00m \u001b[39mNone\u001b[39m\n",
      "\u001b[0;31mInvalidArgumentError\u001b[0m: {{function_node __wrapped__IteratorGetNext_output_types_2_device_/job:localhost/replica:0/task:0/device:CPU:0}} Input dimension 2 must have length of at least 80 but got: 40\n\t [[{{node mfccs_from_log_mel_spectrograms/dct/rfft}}]] [Op:IteratorGetNext]"
     ]
    }
   ],
   "source": [
    "kf = KFold(n_splits=5, random_state=7, shuffle=True)\n",
    "X = glob(\"complete_data/*.wav\")\n",
    "for i, (train_index, test_index) in enumerate(kf.split(X)):\n",
    "\n",
    "    train_files = [X[j] for j in train_index]\n",
    "    test_files = [X[j] for j in test_index]\n",
    "\n",
    "    train_file_ds = tf.data.Dataset.list_files(train_files)\n",
    "    train_ds = train_file_ds.map(preprocess_with_resized_mel).batch(batch_size)\n",
    "    test_file_ds = tf.data.Dataset.list_files(test_files)\n",
    "    test_ds = test_file_ds.map(preprocess_with_resized_mel).batch(batch_size)\n",
    "\n",
    "    ###\n",
    "    # for example_batch, example_labels in train_ds.take(1):\n",
    "    #     #print(example_batch.shape)\n",
    "    #     #print(example_labels)\n",
    "    #     pass\n",
    "\n",
    "    model = tf.keras.Sequential([\n",
    "    tf.keras.layers.Input(shape=(32,32,40)),#example_batch.shape[1:]),\n",
    "    tf.keras.layers.Conv2D(filters=128, kernel_size=[3, 3], strides=[2, 2],\n",
    "        use_bias=False, padding='valid'),\n",
    "    tf.keras.layers.BatchNormalization(),\n",
    "    tf.keras.layers.ReLU(),\n",
    "    tf.keras.layers.Conv2D(filters=128, kernel_size=[3, 3], strides=[1, 1],\n",
    "        use_bias=False, padding='same'),\n",
    "    tf.keras.layers.BatchNormalization(),\n",
    "    tf.keras.layers.ReLU(),\n",
    "    tf.keras.layers.Conv2D(filters=128, kernel_size=[3, 3], strides=[1, 1],\n",
    "        use_bias=False, padding='same'),\n",
    "    tf.keras.layers.BatchNormalization(),\n",
    "    tf.keras.layers.ReLU(),\n",
    "    tf.keras.layers.GlobalAveragePooling2D(),\n",
    "    tf.keras.layers.Dense(units=len(LABELS)),\n",
    "    tf.keras.layers.Softmax()\n",
    "    ])\n",
    "\n",
    "    loss = tf.losses.SparseCategoricalCrossentropy(from_logits=False)\n",
    "    optimizer = tf.optimizers.Adam(learning_rate=1e-5)\n",
    "    metrics = [tf.metrics.SparseCategoricalAccuracy()]\n",
    "    ###\n",
    "\n",
    "    model.compile(loss=loss, optimizer=optimizer, metrics=metrics)\n",
    "\n",
    "    history = model.fit(train_ds, epochs=5, validation_data=test_ds)\n",
    "    # computing statistics\n",
    "    test_loss, test_accuracy = model.evaluate(test_ds)\n",
    "    # training_loss = history.history['loss'][-1]\n",
    "    # training_accuracy = history.history['sparse_categorical_accuracy'][-1]\n",
    "    # val_loss = history.history['val_loss'][-1]\n",
    "    # val_accuracy = history.history['val_sparse_categorical_accuracy'][-1]\n"
   ]
  },
  {
   "cell_type": "code",
   "execution_count": null,
   "metadata": {},
   "outputs": [],
   "source": []
  }
 ],
 "metadata": {
  "kernelspec": {
   "display_name": "ml4iot",
   "language": "python",
   "name": "python3"
  },
  "language_info": {
   "codemirror_mode": {
    "name": "ipython",
    "version": 3
   },
   "file_extension": ".py",
   "mimetype": "text/x-python",
   "name": "python",
   "nbconvert_exporter": "python",
   "pygments_lexer": "ipython3",
   "version": "3.8.10"
  },
  "orig_nbformat": 4,
  "vscode": {
   "interpreter": {
    "hash": "50faee7ea107bbb877e745a46ff77602c21ee76c37d933b41592c4a5354e13de"
   }
  }
 },
 "nbformat": 4,
 "nbformat_minor": 2
}
