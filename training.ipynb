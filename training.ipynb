{
 "cells": [
  {
   "cell_type": "code",
   "execution_count": 1,
   "metadata": {},
   "outputs": [
    {
     "name": "stderr",
     "output_type": "stream",
     "text": [
      "2023-02-20 14:31:21.737422: I tensorflow/core/platform/cpu_feature_guard.cc:193] This TensorFlow binary is optimized with oneAPI Deep Neural Network Library (oneDNN) to use the following CPU instructions in performance-critical operations:  AVX2 AVX512F AVX512_VNNI FMA\n",
      "To enable them in other operations, rebuild TensorFlow with the appropriate compiler flags.\n",
      "2023-02-20 14:31:21.850962: I tensorflow/core/util/port.cc:104] oneDNN custom operations are on. You may see slightly different numerical results due to floating-point round-off errors from different computation orders. To turn them off, set the environment variable `TF_ENABLE_ONEDNN_OPTS=0`.\n",
      "2023-02-20 14:31:21.854023: W tensorflow/compiler/xla/stream_executor/platform/default/dso_loader.cc:64] Could not load dynamic library 'libcudart.so.11.0'; dlerror: libcudart.so.11.0: cannot open shared object file: No such file or directory\n",
      "2023-02-20 14:31:21.854034: I tensorflow/compiler/xla/stream_executor/cuda/cudart_stub.cc:29] Ignore above cudart dlerror if you do not have a GPU set up on your machine.\n",
      "2023-02-20 14:31:22.362089: W tensorflow/compiler/xla/stream_executor/platform/default/dso_loader.cc:64] Could not load dynamic library 'libnvinfer.so.7'; dlerror: libnvinfer.so.7: cannot open shared object file: No such file or directory\n",
      "2023-02-20 14:31:22.362122: W tensorflow/compiler/xla/stream_executor/platform/default/dso_loader.cc:64] Could not load dynamic library 'libnvinfer_plugin.so.7'; dlerror: libnvinfer_plugin.so.7: cannot open shared object file: No such file or directory\n",
      "2023-02-20 14:31:22.362126: W tensorflow/compiler/tf2tensorrt/utils/py_utils.cc:38] TF-TRT Warning: Cannot dlopen some TensorRT libraries. If you would like to use Nvidia GPU with TensorRT, please make sure the missing libraries mentioned above are installed properly.\n"
     ]
    }
   ],
   "source": [
    "import tensorflow as tf\n",
    "#tf.compat.v1.enable_eager_execution()\n",
    "from preprocessing import *\n",
    "import os"
   ]
  },
  {
   "cell_type": "code",
   "execution_count": 2,
   "metadata": {},
   "outputs": [
    {
     "name": "stderr",
     "output_type": "stream",
     "text": [
      "2023-02-20 14:31:23.067185: W tensorflow/compiler/xla/stream_executor/platform/default/dso_loader.cc:64] Could not load dynamic library 'libcuda.so.1'; dlerror: libcuda.so.1: cannot open shared object file: No such file or directory\n",
      "2023-02-20 14:31:23.067208: W tensorflow/compiler/xla/stream_executor/cuda/cuda_driver.cc:265] failed call to cuInit: UNKNOWN ERROR (303)\n",
      "2023-02-20 14:31:23.067231: I tensorflow/compiler/xla/stream_executor/cuda/cuda_diagnostics.cc:156] kernel driver does not appear to be running on this host (sfanigliulo-Prestige-14Evo-A11M): /proc/driver/nvidia/version does not exist\n",
      "2023-02-20 14:31:23.067542: I tensorflow/core/platform/cpu_feature_guard.cc:193] This TensorFlow binary is optimized with oneAPI Deep Neural Network Library (oneDNN) to use the following CPU instructions in performance-critical operations:  AVX2 AVX512F AVX512_VNNI FMA\n",
      "To enable them in other operations, rebuild TensorFlow with the appropriate compiler flags.\n"
     ]
    },
    {
     "ename": "InvalidArgumentError",
     "evalue": "Expected 'tf.Tensor(False, shape=(), dtype=bool)' to be true. Summarized data: b'No files matched pattern: formatted_data/*/*.wav'",
     "output_type": "error",
     "traceback": [
      "\u001b[0;31m---------------------------------------------------------------------------\u001b[0m",
      "\u001b[0;31mInvalidArgumentError\u001b[0m                      Traceback (most recent call last)",
      "Cell \u001b[0;32mIn[2], line 1\u001b[0m\n\u001b[0;32m----> 1\u001b[0m train_file_ds \u001b[39m=\u001b[39m tf\u001b[39m.\u001b[39;49mdata\u001b[39m.\u001b[39;49mDataset\u001b[39m.\u001b[39;49mlist_files([\u001b[39m'\u001b[39;49m\u001b[39mformatted_data/*/*.wav\u001b[39;49m\u001b[39m'\u001b[39;49m])\n\u001b[1;32m      2\u001b[0m validation_file_ds \u001b[39m=\u001b[39m tf\u001b[39m.\u001b[39mdata\u001b[39m.\u001b[39mDataset\u001b[39m.\u001b[39mlist_files([\u001b[39m'\u001b[39m\u001b[39mvalidation_data/*/*.wav\u001b[39m\u001b[39m'\u001b[39m])\n\u001b[1;32m      3\u001b[0m batch_size \u001b[39m=\u001b[39m \u001b[39m5\u001b[39m\n",
      "File \u001b[0;32m~/ml4iot/ml4iot/lib/python3.8/site-packages/tensorflow/python/data/ops/dataset_ops.py:1471\u001b[0m, in \u001b[0;36mDatasetV2.list_files\u001b[0;34m(file_pattern, shuffle, seed, name)\u001b[0m\n\u001b[1;32m   1464\u001b[0m condition \u001b[39m=\u001b[39m math_ops\u001b[39m.\u001b[39mgreater(array_ops\u001b[39m.\u001b[39mshape(matching_files)[\u001b[39m0\u001b[39m], \u001b[39m0\u001b[39m,\n\u001b[1;32m   1465\u001b[0m                              name\u001b[39m=\u001b[39m\u001b[39m\"\u001b[39m\u001b[39mmatch_not_empty\u001b[39m\u001b[39m\"\u001b[39m)\n\u001b[1;32m   1467\u001b[0m message \u001b[39m=\u001b[39m math_ops\u001b[39m.\u001b[39madd(\n\u001b[1;32m   1468\u001b[0m     \u001b[39m\"\u001b[39m\u001b[39mNo files matched pattern: \u001b[39m\u001b[39m\"\u001b[39m,\n\u001b[1;32m   1469\u001b[0m     string_ops\u001b[39m.\u001b[39mreduce_join(file_pattern, separator\u001b[39m=\u001b[39m\u001b[39m\"\u001b[39m\u001b[39m, \u001b[39m\u001b[39m\"\u001b[39m), name\u001b[39m=\u001b[39m\u001b[39m\"\u001b[39m\u001b[39mmessage\u001b[39m\u001b[39m\"\u001b[39m)\n\u001b[0;32m-> 1471\u001b[0m assert_not_empty \u001b[39m=\u001b[39m control_flow_ops\u001b[39m.\u001b[39;49mAssert(\n\u001b[1;32m   1472\u001b[0m     condition, [message], summarize\u001b[39m=\u001b[39;49m\u001b[39m1\u001b[39;49m, name\u001b[39m=\u001b[39;49m\u001b[39m\"\u001b[39;49m\u001b[39massert_not_empty\u001b[39;49m\u001b[39m\"\u001b[39;49m)\n\u001b[1;32m   1473\u001b[0m \u001b[39mwith\u001b[39;00m ops\u001b[39m.\u001b[39mcontrol_dependencies([assert_not_empty]):\n\u001b[1;32m   1474\u001b[0m   matching_files \u001b[39m=\u001b[39m array_ops\u001b[39m.\u001b[39midentity(matching_files)\n",
      "File \u001b[0;32m~/ml4iot/ml4iot/lib/python3.8/site-packages/tensorflow/python/util/traceback_utils.py:153\u001b[0m, in \u001b[0;36mfilter_traceback.<locals>.error_handler\u001b[0;34m(*args, **kwargs)\u001b[0m\n\u001b[1;32m    151\u001b[0m \u001b[39mexcept\u001b[39;00m \u001b[39mException\u001b[39;00m \u001b[39mas\u001b[39;00m e:\n\u001b[1;32m    152\u001b[0m   filtered_tb \u001b[39m=\u001b[39m _process_traceback_frames(e\u001b[39m.\u001b[39m__traceback__)\n\u001b[0;32m--> 153\u001b[0m   \u001b[39mraise\u001b[39;00m e\u001b[39m.\u001b[39mwith_traceback(filtered_tb) \u001b[39mfrom\u001b[39;00m \u001b[39mNone\u001b[39m\n\u001b[1;32m    154\u001b[0m \u001b[39mfinally\u001b[39;00m:\n\u001b[1;32m    155\u001b[0m   \u001b[39mdel\u001b[39;00m filtered_tb\n",
      "File \u001b[0;32m~/ml4iot/ml4iot/lib/python3.8/site-packages/tensorflow/python/ops/control_flow_ops.py:156\u001b[0m, in \u001b[0;36mAssert\u001b[0;34m(condition, data, summarize, name)\u001b[0m\n\u001b[1;32m    154\u001b[0m     xs \u001b[39m=\u001b[39m ops\u001b[39m.\u001b[39mconvert_n_to_tensor(data)\n\u001b[1;32m    155\u001b[0m     data_str \u001b[39m=\u001b[39m [_summarize_eager(x, summarize) \u001b[39mfor\u001b[39;00m x \u001b[39min\u001b[39;00m xs]\n\u001b[0;32m--> 156\u001b[0m     \u001b[39mraise\u001b[39;00m errors\u001b[39m.\u001b[39mInvalidArgumentError(\n\u001b[1;32m    157\u001b[0m         node_def\u001b[39m=\u001b[39m\u001b[39mNone\u001b[39;00m,\n\u001b[1;32m    158\u001b[0m         op\u001b[39m=\u001b[39m\u001b[39mNone\u001b[39;00m,\n\u001b[1;32m    159\u001b[0m         message\u001b[39m=\u001b[39m\u001b[39m\"\u001b[39m\u001b[39mExpected \u001b[39m\u001b[39m'\u001b[39m\u001b[39m%s\u001b[39;00m\u001b[39m'\u001b[39m\u001b[39m to be true. Summarized data: \u001b[39m\u001b[39m%s\u001b[39;00m\u001b[39m\"\u001b[39m \u001b[39m%\u001b[39m\n\u001b[1;32m    160\u001b[0m         (condition, \u001b[39m\"\u001b[39m\u001b[39m\\n\u001b[39;00m\u001b[39m\"\u001b[39m\u001b[39m.\u001b[39mjoin(data_str)))\n\u001b[1;32m    161\u001b[0m   \u001b[39mreturn\u001b[39;00m\n\u001b[1;32m    163\u001b[0m \u001b[39mwith\u001b[39;00m ops\u001b[39m.\u001b[39mname_scope(name, \u001b[39m\"\u001b[39m\u001b[39mAssert\u001b[39m\u001b[39m\"\u001b[39m, [condition, data]) \u001b[39mas\u001b[39;00m name:\n",
      "\u001b[0;31mInvalidArgumentError\u001b[0m: Expected 'tf.Tensor(False, shape=(), dtype=bool)' to be true. Summarized data: b'No files matched pattern: formatted_data/*/*.wav'"
     ]
    }
   ],
   "source": [
    "train_file_ds = tf.data.Dataset.list_files(['formatted_data/*/*.wav'])\n",
    "validation_file_ds = tf.data.Dataset.list_files(['validation_data/*/*.wav'])\n",
    "batch_size = 5"
   ]
  },
  {
   "cell_type": "code",
   "execution_count": null,
   "metadata": {},
   "outputs": [
    {
     "name": "stderr",
     "output_type": "stream",
     "text": [
      "2023-02-20 09:21:10.059673: W tensorflow/core/framework/op_kernel.cc:1830] OP_REQUIRES failed at functional_ops.cc:373 : INTERNAL: No function library\n",
      "2023-02-20 09:21:10.063416: W tensorflow/core/framework/op_kernel.cc:1830] OP_REQUIRES failed at functional_ops.cc:373 : INTERNAL: No function library\n",
      "2023-02-20 09:21:10.064739: W tensorflow/core/framework/op_kernel.cc:1830] OP_REQUIRES failed at functional_ops.cc:373 : INTERNAL: No function library\n",
      "2023-02-20 09:21:10.064903: W tensorflow/core/framework/op_kernel.cc:1830] OP_REQUIRES failed at functional_ops.cc:373 : INTERNAL: No function library\n",
      "2023-02-20 09:21:10.411727: W tensorflow/core/framework/op_kernel.cc:1830] OP_REQUIRES failed at functional_ops.cc:373 : INTERNAL: No function library\n",
      "2023-02-20 09:21:10.415691: W tensorflow/core/framework/op_kernel.cc:1830] OP_REQUIRES failed at functional_ops.cc:373 : INTERNAL: No function library\n",
      "2023-02-20 09:21:10.417367: W tensorflow/core/framework/op_kernel.cc:1830] OP_REQUIRES failed at functional_ops.cc:373 : INTERNAL: No function library\n",
      "2023-02-20 09:21:10.417603: W tensorflow/core/framework/op_kernel.cc:1830] OP_REQUIRES failed at functional_ops.cc:373 : INTERNAL: No function library\n",
      "2023-02-20 09:21:10.993624: W tensorflow/core/framework/op_kernel.cc:1830] OP_REQUIRES failed at decode_wav_op.cc:52 : INVALID_ARGUMENT: Bad audio format for WAV: Expected 1 (PCM), but got3\n",
      "2023-02-20 09:21:10.993777: W tensorflow/core/framework/op_kernel.cc:1830] OP_REQUIRES failed at decode_wav_op.cc:52 : INVALID_ARGUMENT: Bad audio format for WAV: Expected 1 (PCM), but got3\n",
      "2023-02-20 09:21:10.994636: W tensorflow/core/framework/op_kernel.cc:1830] OP_REQUIRES failed at decode_wav_op.cc:52 : INVALID_ARGUMENT: Bad audio format for WAV: Expected 1 (PCM), but got3\n",
      "2023-02-20 09:21:10.995447: W tensorflow/core/framework/op_kernel.cc:1830] OP_REQUIRES failed at decode_wav_op.cc:52 : INVALID_ARGUMENT: Bad audio format for WAV: Expected 1 (PCM), but got3\n",
      "2023-02-20 09:21:10.996095: W tensorflow/core/framework/op_kernel.cc:1830] OP_REQUIRES failed at decode_wav_op.cc:52 : INVALID_ARGUMENT: Bad audio format for WAV: Expected 1 (PCM), but got3\n",
      "2023-02-20 09:21:10.997390: W tensorflow/core/framework/op_kernel.cc:1830] OP_REQUIRES failed at decode_wav_op.cc:52 : INVALID_ARGUMENT: Bad audio format for WAV: Expected 1 (PCM), but got3\n",
      "2023-02-20 09:21:10.997770: W tensorflow/core/framework/op_kernel.cc:1830] OP_REQUIRES failed at decode_wav_op.cc:52 : INVALID_ARGUMENT: Bad audio format for WAV: Expected 1 (PCM), but got3\n",
      "2023-02-20 09:21:10.998530: W tensorflow/core/framework/op_kernel.cc:1830] OP_REQUIRES failed at decode_wav_op.cc:52 : INVALID_ARGUMENT: Bad audio format for WAV: Expected 1 (PCM), but got3\n",
      "2023-02-20 09:21:10.998719: W tensorflow/core/framework/op_kernel.cc:1830] OP_REQUIRES failed at decode_wav_op.cc:52 : INVALID_ARGUMENT: Bad audio format for WAV: Expected 1 (PCM), but got3\n",
      "2023-02-20 09:21:10.999180: W tensorflow/core/framework/op_kernel.cc:1830] OP_REQUIRES failed at decode_wav_op.cc:52 : INVALID_ARGUMENT: Bad audio format for WAV: Expected 1 (PCM), but got3\n",
      "2023-02-20 09:21:10.999304: W tensorflow/core/framework/op_kernel.cc:1830] OP_REQUIRES failed at decode_wav_op.cc:52 : INVALID_ARGUMENT: Bad audio format for WAV: Expected 1 (PCM), but got3\n",
      "2023-02-20 09:21:11.000299: W tensorflow/core/framework/op_kernel.cc:1830] OP_REQUIRES failed at decode_wav_op.cc:52 : INVALID_ARGUMENT: Bad audio format for WAV: Expected 1 (PCM), but got3\n",
      "2023-02-20 09:21:11.000432: W tensorflow/core/framework/op_kernel.cc:1830] OP_REQUIRES failed at decode_wav_op.cc:52 : INVALID_ARGUMENT: Bad audio format for WAV: Expected 1 (PCM), but got3\n",
      "2023-02-20 09:21:11.001240: W tensorflow/core/framework/op_kernel.cc:1830] OP_REQUIRES failed at decode_wav_op.cc:52 : INVALID_ARGUMENT: Bad audio format for WAV: Expected 1 (PCM), but got3\n",
      "2023-02-20 09:21:11.001279: W tensorflow/core/framework/op_kernel.cc:1830] OP_REQUIRES failed at decode_wav_op.cc:52 : INVALID_ARGUMENT: Bad audio format for WAV: Expected 1 (PCM), but got3\n",
      "2023-02-20 09:21:11.001795: W tensorflow/core/framework/op_kernel.cc:1830] OP_REQUIRES failed at decode_wav_op.cc:52 : INVALID_ARGUMENT: Bad audio format for WAV: Expected 1 (PCM), but got3\n",
      "2023-02-20 09:21:11.002211: W tensorflow/core/framework/op_kernel.cc:1830] OP_REQUIRES failed at decode_wav_op.cc:52 : INVALID_ARGUMENT: Bad audio format for WAV: Expected 1 (PCM), but got3\n",
      "2023-02-20 09:21:11.002956: W tensorflow/core/framework/op_kernel.cc:1830] OP_REQUIRES failed at decode_wav_op.cc:52 : INVALID_ARGUMENT: Bad audio format for WAV: Expected 1 (PCM), but got3\n",
      "2023-02-20 09:21:11.003897: W tensorflow/core/framework/op_kernel.cc:1830] OP_REQUIRES failed at decode_wav_op.cc:52 : INVALID_ARGUMENT: Bad audio format for WAV: Expected 1 (PCM), but got3\n",
      "2023-02-20 09:21:11.004557: W tensorflow/core/framework/op_kernel.cc:1830] OP_REQUIRES failed at decode_wav_op.cc:52 : INVALID_ARGUMENT: Bad audio format for WAV: Expected 1 (PCM), but got3\n",
      "2023-02-20 09:21:11.005547: W tensorflow/core/framework/op_kernel.cc:1830] OP_REQUIRES failed at decode_wav_op.cc:52 : INVALID_ARGUMENT: Bad audio format for WAV: Expected 1 (PCM), but got3\n",
      "2023-02-20 09:21:11.005970: W tensorflow/core/framework/op_kernel.cc:1830] OP_REQUIRES failed at decode_wav_op.cc:52 : INVALID_ARGUMENT: Bad audio format for WAV: Expected 1 (PCM), but got3\n",
      "2023-02-20 09:21:11.006315: W tensorflow/core/framework/op_kernel.cc:1830] OP_REQUIRES failed at decode_wav_op.cc:52 : INVALID_ARGUMENT: Bad audio format for WAV: Expected 1 (PCM), but got3\n",
      "2023-02-20 09:21:11.006511: W tensorflow/core/framework/op_kernel.cc:1830] OP_REQUIRES failed at decode_wav_op.cc:52 : INVALID_ARGUMENT: Bad audio format for WAV: Expected 1 (PCM), but got3\n",
      "2023-02-20 09:21:11.007649: W tensorflow/core/framework/op_kernel.cc:1830] OP_REQUIRES failed at decode_wav_op.cc:52 : INVALID_ARGUMENT: Bad audio format for WAV: Expected 1 (PCM), but got3\n",
      "2023-02-20 09:21:11.008129: W tensorflow/core/framework/op_kernel.cc:1830] OP_REQUIRES failed at decode_wav_op.cc:52 : INVALID_ARGUMENT: Bad audio format for WAV: Expected 1 (PCM), but got3\n",
      "2023-02-20 09:21:11.008153: W tensorflow/core/framework/op_kernel.cc:1830] OP_REQUIRES failed at decode_wav_op.cc:52 : INVALID_ARGUMENT: Bad audio format for WAV: Expected 1 (PCM), but got3\n",
      "2023-02-20 09:21:11.009280: W tensorflow/core/framework/op_kernel.cc:1830] OP_REQUIRES failed at decode_wav_op.cc:52 : INVALID_ARGUMENT: Bad audio format for WAV: Expected 1 (PCM), but got3\n",
      "2023-02-20 09:21:11.009391: W tensorflow/core/framework/op_kernel.cc:1830] OP_REQUIRES failed at decode_wav_op.cc:52 : INVALID_ARGUMENT: Bad audio format for WAV: Expected 1 (PCM), but got3\n",
      "2023-02-20 09:21:11.009451: W tensorflow/core/framework/op_kernel.cc:1830] OP_REQUIRES failed at decode_wav_op.cc:52 : INVALID_ARGUMENT: Bad audio format for WAV: Expected 1 (PCM), but got3\n",
      "2023-02-20 09:21:11.010026: W tensorflow/core/framework/op_kernel.cc:1830] OP_REQUIRES failed at decode_wav_op.cc:52 : INVALID_ARGUMENT: Bad audio format for WAV: Expected 1 (PCM), but got3\n",
      "2023-02-20 09:21:11.010429: W tensorflow/core/framework/op_kernel.cc:1830] OP_REQUIRES failed at decode_wav_op.cc:52 : INVALID_ARGUMENT: Bad audio format for WAV: Expected 1 (PCM), but got3\n",
      "2023-02-20 09:21:11.010536: W tensorflow/core/framework/op_kernel.cc:1830] OP_REQUIRES failed at decode_wav_op.cc:52 : INVALID_ARGUMENT: Bad audio format for WAV: Expected 1 (PCM), but got3\n",
      "2023-02-20 09:21:11.010578: W tensorflow/core/framework/op_kernel.cc:1830] OP_REQUIRES failed at decode_wav_op.cc:52 : INVALID_ARGUMENT: Bad audio format for WAV: Expected 1 (PCM), but got3\n",
      "2023-02-20 09:21:11.010960: W tensorflow/core/framework/op_kernel.cc:1830] OP_REQUIRES failed at decode_wav_op.cc:52 : INVALID_ARGUMENT: Bad audio format for WAV: Expected 1 (PCM), but got3\n",
      "2023-02-20 09:21:11.013064: W tensorflow/core/framework/op_kernel.cc:1830] OP_REQUIRES failed at decode_wav_op.cc:52 : INVALID_ARGUMENT: Bad audio format for WAV: Expected 1 (PCM), but got3\n",
      "2023-02-20 09:21:11.013835: W tensorflow/core/framework/op_kernel.cc:1830] OP_REQUIRES failed at decode_wav_op.cc:52 : INVALID_ARGUMENT: Bad audio format for WAV: Expected 1 (PCM), but got3\n",
      "2023-02-20 09:21:11.014639: W tensorflow/core/framework/op_kernel.cc:1830] OP_REQUIRES failed at decode_wav_op.cc:52 : INVALID_ARGUMENT: Bad audio format for WAV: Expected 1 (PCM), but got3\n",
      "2023-02-20 09:21:11.015450: W tensorflow/core/framework/op_kernel.cc:1830] OP_REQUIRES failed at decode_wav_op.cc:52 : INVALID_ARGUMENT: Bad audio format for WAV: Expected 1 (PCM), but got3\n",
      "2023-02-20 09:21:11.015523: W tensorflow/core/framework/op_kernel.cc:1830] OP_REQUIRES failed at decode_wav_op.cc:52 : INVALID_ARGUMENT: Bad audio format for WAV: Expected 1 (PCM), but got3\n",
      "2023-02-20 09:21:11.016489: W tensorflow/core/framework/op_kernel.cc:1830] OP_REQUIRES failed at decode_wav_op.cc:52 : INVALID_ARGUMENT: Bad audio format for WAV: Expected 1 (PCM), but got3\n",
      "2023-02-20 09:21:11.017050: W tensorflow/core/framework/op_kernel.cc:1830] OP_REQUIRES failed at decode_wav_op.cc:52 : INVALID_ARGUMENT: Bad audio format for WAV: Expected 1 (PCM), but got3\n",
      "2023-02-20 09:21:11.017418: W tensorflow/core/framework/op_kernel.cc:1830] OP_REQUIRES failed at decode_wav_op.cc:52 : INVALID_ARGUMENT: Bad audio format for WAV: Expected 1 (PCM), but got3\n",
      "2023-02-20 09:21:11.017955: W tensorflow/core/framework/op_kernel.cc:1830] OP_REQUIRES failed at decode_wav_op.cc:52 : INVALID_ARGUMENT: Bad audio format for WAV: Expected 1 (PCM), but got3\n",
      "2023-02-20 09:21:11.019610: W tensorflow/core/framework/op_kernel.cc:1830] OP_REQUIRES failed at decode_wav_op.cc:52 : INVALID_ARGUMENT: Bad audio format for WAV: Expected 1 (PCM), but got3\n",
      "2023-02-20 09:21:11.023461: W tensorflow/core/framework/op_kernel.cc:1830] OP_REQUIRES failed at decode_wav_op.cc:52 : INVALID_ARGUMENT: Bad audio format for WAV: Expected 1 (PCM), but got3\n",
      "2023-02-20 09:21:11.023545: W tensorflow/core/framework/op_kernel.cc:1830] OP_REQUIRES failed at decode_wav_op.cc:52 : INVALID_ARGUMENT: Bad audio format for WAV: Expected 1 (PCM), but got3\n"
     ]
    },
    {
     "ename": "InvalidArgumentError",
     "evalue": "{{function_node __wrapped__IteratorGetNext_output_types_2_device_/job:localhost/replica:0/task:0/device:CPU:0}} Bad audio format for WAV: Expected 1 (PCM), but got3\n\t [[{{node DecodeWav}}]] [Op:IteratorGetNext]",
     "output_type": "error",
     "traceback": [
      "\u001b[0;31m---------------------------------------------------------------------------\u001b[0m",
      "\u001b[0;31mInvalidArgumentError\u001b[0m                      Traceback (most recent call last)",
      "Cell \u001b[0;32mIn[3], line 4\u001b[0m\n\u001b[1;32m      1\u001b[0m train_ds \u001b[39m=\u001b[39m train_file_ds\u001b[39m.\u001b[39mmap(preprocess_with_resized_mel)\u001b[39m.\u001b[39mbatch(batch_size)\n\u001b[1;32m      2\u001b[0m val_ds \u001b[39m=\u001b[39m validation_file_ds\u001b[39m.\u001b[39mmap(preprocess_with_resized_mel)\u001b[39m.\u001b[39mbatch(batch_size)\n\u001b[0;32m----> 4\u001b[0m \u001b[39mfor\u001b[39;00m example_batch, example_labels \u001b[39min\u001b[39;00m train_ds\u001b[39m.\u001b[39mtake(\u001b[39m1\u001b[39m):\n\u001b[1;32m      5\u001b[0m     \u001b[39mprint\u001b[39m(example_batch\u001b[39m.\u001b[39mshape)\n\u001b[1;32m      6\u001b[0m     \u001b[39mprint\u001b[39m(example_labels)\n",
      "File \u001b[0;32m~/ml4iot/ml4iot/lib/python3.8/site-packages/tensorflow/python/data/ops/iterator_ops.py:787\u001b[0m, in \u001b[0;36mOwnedIterator.__next__\u001b[0;34m(self)\u001b[0m\n\u001b[1;32m    785\u001b[0m \u001b[39mdef\u001b[39;00m \u001b[39m__next__\u001b[39m(\u001b[39mself\u001b[39m):\n\u001b[1;32m    786\u001b[0m   \u001b[39mtry\u001b[39;00m:\n\u001b[0;32m--> 787\u001b[0m     \u001b[39mreturn\u001b[39;00m \u001b[39mself\u001b[39;49m\u001b[39m.\u001b[39;49m_next_internal()\n\u001b[1;32m    788\u001b[0m   \u001b[39mexcept\u001b[39;00m errors\u001b[39m.\u001b[39mOutOfRangeError:\n\u001b[1;32m    789\u001b[0m     \u001b[39mraise\u001b[39;00m \u001b[39mStopIteration\u001b[39;00m\n",
      "File \u001b[0;32m~/ml4iot/ml4iot/lib/python3.8/site-packages/tensorflow/python/data/ops/iterator_ops.py:770\u001b[0m, in \u001b[0;36mOwnedIterator._next_internal\u001b[0;34m(self)\u001b[0m\n\u001b[1;32m    767\u001b[0m \u001b[39m# TODO(b/77291417): This runs in sync mode as iterators use an error status\u001b[39;00m\n\u001b[1;32m    768\u001b[0m \u001b[39m# to communicate that there is no more data to iterate over.\u001b[39;00m\n\u001b[1;32m    769\u001b[0m \u001b[39mwith\u001b[39;00m context\u001b[39m.\u001b[39mexecution_mode(context\u001b[39m.\u001b[39mSYNC):\n\u001b[0;32m--> 770\u001b[0m   ret \u001b[39m=\u001b[39m gen_dataset_ops\u001b[39m.\u001b[39;49miterator_get_next(\n\u001b[1;32m    771\u001b[0m       \u001b[39mself\u001b[39;49m\u001b[39m.\u001b[39;49m_iterator_resource,\n\u001b[1;32m    772\u001b[0m       output_types\u001b[39m=\u001b[39;49m\u001b[39mself\u001b[39;49m\u001b[39m.\u001b[39;49m_flat_output_types,\n\u001b[1;32m    773\u001b[0m       output_shapes\u001b[39m=\u001b[39;49m\u001b[39mself\u001b[39;49m\u001b[39m.\u001b[39;49m_flat_output_shapes)\n\u001b[1;32m    775\u001b[0m   \u001b[39mtry\u001b[39;00m:\n\u001b[1;32m    776\u001b[0m     \u001b[39m# Fast path for the case `self._structure` is not a nested structure.\u001b[39;00m\n\u001b[1;32m    777\u001b[0m     \u001b[39mreturn\u001b[39;00m \u001b[39mself\u001b[39m\u001b[39m.\u001b[39m_element_spec\u001b[39m.\u001b[39m_from_compatible_tensor_list(ret)  \u001b[39m# pylint: disable=protected-access\u001b[39;00m\n",
      "File \u001b[0;32m~/ml4iot/ml4iot/lib/python3.8/site-packages/tensorflow/python/ops/gen_dataset_ops.py:3017\u001b[0m, in \u001b[0;36miterator_get_next\u001b[0;34m(iterator, output_types, output_shapes, name)\u001b[0m\n\u001b[1;32m   3015\u001b[0m   \u001b[39mreturn\u001b[39;00m _result\n\u001b[1;32m   3016\u001b[0m \u001b[39mexcept\u001b[39;00m _core\u001b[39m.\u001b[39m_NotOkStatusException \u001b[39mas\u001b[39;00m e:\n\u001b[0;32m-> 3017\u001b[0m   _ops\u001b[39m.\u001b[39;49mraise_from_not_ok_status(e, name)\n\u001b[1;32m   3018\u001b[0m \u001b[39mexcept\u001b[39;00m _core\u001b[39m.\u001b[39m_FallbackException:\n\u001b[1;32m   3019\u001b[0m   \u001b[39mpass\u001b[39;00m\n",
      "File \u001b[0;32m~/ml4iot/ml4iot/lib/python3.8/site-packages/tensorflow/python/framework/ops.py:7215\u001b[0m, in \u001b[0;36mraise_from_not_ok_status\u001b[0;34m(e, name)\u001b[0m\n\u001b[1;32m   7213\u001b[0m \u001b[39mdef\u001b[39;00m \u001b[39mraise_from_not_ok_status\u001b[39m(e, name):\n\u001b[1;32m   7214\u001b[0m   e\u001b[39m.\u001b[39mmessage \u001b[39m+\u001b[39m\u001b[39m=\u001b[39m (\u001b[39m\"\u001b[39m\u001b[39m name: \u001b[39m\u001b[39m\"\u001b[39m \u001b[39m+\u001b[39m name \u001b[39mif\u001b[39;00m name \u001b[39mis\u001b[39;00m \u001b[39mnot\u001b[39;00m \u001b[39mNone\u001b[39;00m \u001b[39melse\u001b[39;00m \u001b[39m\"\u001b[39m\u001b[39m\"\u001b[39m)\n\u001b[0;32m-> 7215\u001b[0m   \u001b[39mraise\u001b[39;00m core\u001b[39m.\u001b[39m_status_to_exception(e) \u001b[39mfrom\u001b[39;00m \u001b[39mNone\u001b[39m\n",
      "\u001b[0;31mInvalidArgumentError\u001b[0m: {{function_node __wrapped__IteratorGetNext_output_types_2_device_/job:localhost/replica:0/task:0/device:CPU:0}} Bad audio format for WAV: Expected 1 (PCM), but got3\n\t [[{{node DecodeWav}}]] [Op:IteratorGetNext]"
     ]
    }
   ],
   "source": [
    "train_ds = train_file_ds.map(preprocess_with_resized_mel).batch(batch_size)\n",
    "val_ds = validation_file_ds.map(preprocess_with_resized_mel).batch(batch_size)\n",
    "\n",
    "for example_batch, example_labels in train_ds.take(1):\n",
    "    print(example_batch.shape)\n",
    "    print(example_labels)"
   ]
  },
  {
   "cell_type": "code",
   "execution_count": null,
   "metadata": {},
   "outputs": [],
   "source": [
    "model = tf.keras.Sequential([\n",
    "    tf.keras.layers.Input(shape=example_batch.shape[1:]),\n",
    "    tf.keras.layers.Conv2D(filters=128*config['alpha'], kernel_size=[3, 3], strides=[2, 2],\n",
    "        use_bias=False, padding='valid'),\n",
    "    tf.keras.layers.BatchNormalization(),\n",
    "    tf.keras.layers.ReLU(),\n",
    "    tf.keras.layers.Conv2D(filters=128*config['alpha'], kernel_size=[3, 3], strides=[1, 1],\n",
    "        use_bias=False, padding='same'),\n",
    "    tf.keras.layers.BatchNormalization(),\n",
    "    tf.keras.layers.ReLU(),\n",
    "    tf.keras.layers.Conv2D(filters=128*config['alpha'], kernel_size=[3, 3], strides=[1, 1],\n",
    "        use_bias=False, padding='same'),\n",
    "    tf.keras.layers.BatchNormalization(),\n",
    "    tf.keras.layers.ReLU(),\n",
    "    tf.keras.layers.GlobalAveragePooling2D(),\n",
    "    tf.keras.layers.Dense(units=len(LABELS)),\n",
    "    tf.keras.layers.Softmax()\n",
    "    ])"
   ]
  },
  {
   "cell_type": "code",
   "execution_count": null,
   "metadata": {},
   "outputs": [],
   "source": [
    "# train_file_ds = tf.data.Dataset.list_files(['formatted_data/*/*.wav'])\n",
    "# test_file_ds = tf.data.Dataset.list_files(['msc-test/go*', 'msc-test/stop*'])"
   ]
  }
 ],
 "metadata": {
  "kernelspec": {
   "display_name": "ml4iot",
   "language": "python",
   "name": "python3"
  },
  "language_info": {
   "codemirror_mode": {
    "name": "ipython",
    "version": 3
   },
   "file_extension": ".py",
   "mimetype": "text/x-python",
   "name": "python",
   "nbconvert_exporter": "python",
   "pygments_lexer": "ipython3",
   "version": "3.8.10"
  },
  "orig_nbformat": 4,
  "vscode": {
   "interpreter": {
    "hash": "50faee7ea107bbb877e745a46ff77602c21ee76c37d933b41592c4a5354e13de"
   }
  }
 },
 "nbformat": 4,
 "nbformat_minor": 2
}
