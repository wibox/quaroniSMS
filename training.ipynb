{
 "cells": [
  {
   "cell_type": "code",
   "execution_count": 1,
   "metadata": {},
   "outputs": [],
   "source": [
    "import os\n",
    "os.environ['TF_CPP_MIN_LOG_LEVEL'] = '3' \n",
    "import tensorflow as tf\n",
    "from preprocessing import *"
   ]
  },
  {
   "cell_type": "code",
   "execution_count": 2,
   "metadata": {},
   "outputs": [
    {
     "name": "stdout",
     "output_type": "stream",
     "text": [
      "(5, 32, 32, 1)\n",
      "tf.Tensor([2 2 2 1 2], shape=(5,), dtype=int64)\n"
     ]
    }
   ],
   "source": [
    "train_file_ds = tf.data.Dataset.list_files(['complete_training_data/*.wav'])\n",
    "validation_file_ds = tf.data.Dataset.list_files(['complete_validation_data/*.wav'])\n",
    "\n",
    "batch_size = 5\n",
    "\n",
    "train_mel_ds = train_file_ds.map(get_log_mel_spectrogram)\n",
    "for spectrogram, label in train_mel_ds.take(1):\n",
    "    SHAPE = spectrogram.shape\n",
    "\n",
    "def preprocess_with_resized_mel(filename):\n",
    "    log_mel_spectrogram, label = get_log_mel_spectrogram(filename)\n",
    "    log_mel_spectrogram.set_shape(SHAPE)\n",
    "    mfccs = tf.signal.mfccs_from_log_mel_spectrograms(log_mel_spectrogram)[..., :]\n",
    "    mfccs = tf.expand_dims(mfccs, -1)\n",
    "    mfccs = tf.image.resize(mfccs, [32, 32])\n",
    "    label_id = tf.argmax(label == LABELS)\n",
    "\n",
    "    return mfccs, label_id\n",
    "\n",
    "# train_file_ds = tf.data.Dataset.list_files([\"complete_training_data/*.wav\"])\n",
    "train_ds = train_file_ds.map(preprocess_with_resized_mel).batch(batch_size)\n",
    "validation_ds = validation_file_ds.map(preprocess_with_resized_mel).batch(batch_size)\n",
    "\n",
    "for example_batch, example_labels in train_ds.take(1):\n",
    "    print(example_batch.shape)\n",
    "    print(example_labels)"
   ]
  },
  {
   "cell_type": "code",
   "execution_count": 3,
   "metadata": {},
   "outputs": [],
   "source": [
    "model = tf.keras.Sequential([\n",
    "    tf.keras.layers.Input(shape=example_batch.shape[1:]),\n",
    "    tf.keras.layers.Conv2D(filters=128, kernel_size=[3, 3], strides=[2, 2],\n",
    "        use_bias=False, padding='valid'),\n",
    "    tf.keras.layers.BatchNormalization(),\n",
    "    tf.keras.layers.ReLU(),\n",
    "    tf.keras.layers.Conv2D(filters=128, kernel_size=[3, 3], strides=[1, 1],\n",
    "        use_bias=False, padding='same'),\n",
    "    tf.keras.layers.BatchNormalization(),\n",
    "    tf.keras.layers.ReLU(),\n",
    "    tf.keras.layers.Conv2D(filters=128, kernel_size=[3, 3], strides=[1, 1],\n",
    "        use_bias=False, padding='same'),\n",
    "    tf.keras.layers.BatchNormalization(),\n",
    "    tf.keras.layers.ReLU(),\n",
    "    tf.keras.layers.GlobalAveragePooling2D(),\n",
    "    tf.keras.layers.Dense(units=len(LABELS)),\n",
    "    tf.keras.layers.Softmax()\n",
    "    ])\n",
    "\n",
    "loss = tf.losses.SparseCategoricalCrossentropy(from_logits=False)\n",
    "optimizer = tf.optimizers.Adam(learning_rate=1e-5)\n",
    "metrics = [tf.metrics.SparseCategoricalAccuracy()]"
   ]
  },
  {
   "cell_type": "code",
   "execution_count": 4,
   "metadata": {},
   "outputs": [
    {
     "name": "stdout",
     "output_type": "stream",
     "text": [
      "Epoch 1/5\n",
      "75/75 [==============================] - 32s 402ms/step - loss: 1.0833 - sparse_categorical_accuracy: 0.4305 - val_loss: 1.1762 - val_sparse_categorical_accuracy: 0.0000e+00\n",
      "Epoch 2/5\n",
      "75/75 [==============================] - 30s 396ms/step - loss: 0.9963 - sparse_categorical_accuracy: 0.4305 - val_loss: 1.2376 - val_sparse_categorical_accuracy: 0.0000e+00\n",
      "Epoch 3/5\n",
      "75/75 [==============================] - 30s 396ms/step - loss: 0.9686 - sparse_categorical_accuracy: 0.4358 - val_loss: 1.2933 - val_sparse_categorical_accuracy: 0.0000e+00\n",
      "Epoch 4/5\n",
      "75/75 [==============================] - 34s 457ms/step - loss: 0.9550 - sparse_categorical_accuracy: 0.5000 - val_loss: 1.3348 - val_sparse_categorical_accuracy: 0.0000e+00\n",
      "Epoch 5/5\n",
      "75/75 [==============================] - 30s 401ms/step - loss: 0.9438 - sparse_categorical_accuracy: 0.5428 - val_loss: 1.3796 - val_sparse_categorical_accuracy: 0.0000e+00\n",
      "6/6 [==============================] - 3s 445ms/step - loss: 1.3796 - sparse_categorical_accuracy: 0.0000e+00\n"
     ]
    }
   ],
   "source": [
    "model.compile(loss=loss, optimizer=optimizer, metrics=metrics)\n",
    "history = model.fit(train_ds, epochs=5, validation_data=validation_ds)\n",
    "test_loss, test_accuracy = model.evaluate(validation_ds)"
   ]
  }
 ],
 "metadata": {
  "kernelspec": {
   "display_name": "ml4iotenv",
   "language": "python",
   "name": "python3"
  },
  "language_info": {
   "codemirror_mode": {
    "name": "ipython",
    "version": 3
   },
   "file_extension": ".py",
   "mimetype": "text/x-python",
   "name": "python",
   "nbconvert_exporter": "python",
   "pygments_lexer": "ipython3",
   "version": "3.8.10"
  },
  "orig_nbformat": 4,
  "vscode": {
   "interpreter": {
    "hash": "26573a9fad40d086beb2339af52d84c427e9bce5fee7d856f858bff4ce858c27"
   }
  }
 },
 "nbformat": 4,
 "nbformat_minor": 2
}
