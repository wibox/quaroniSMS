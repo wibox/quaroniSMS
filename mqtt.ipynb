{
 "cells": [
  {
   "cell_type": "code",
   "execution_count": 1,
   "metadata": {},
   "outputs": [],
   "source": [
    "import redis\n",
    "import json\n",
    "import paho.mqtt.client as mqtt\n",
    "import paho.mqtt.subscribe as subscribe"
   ]
  },
  {
   "cell_type": "code",
   "execution_count": null,
   "metadata": {},
   "outputs": [],
   "source": [
    "class RedisClient():\n",
    "    def __init__(\n",
    "        self,\n",
    "        username : str,\n",
    "        pswd : str,\n",
    "        publicid : str,\n",
    "        port : int,\n",
    "    ):\n",
    "\n",
    "        self.username = username\n",
    "        self.pswd = pswd\n",
    "        self.publicid = publicid\n",
    "        self.port = port \n",
    "\n",
    "    def create_client(self):\n",
    "        return redis.Redis(\n",
    "            host=self.publicid,\n",
    "            password=self.pswd,\n",
    "            username=self.username,\n",
    "            port=self.port\n",
    "        )\n",
    "\n",
    "    def check_for_connection(self, redis_client):\n",
    "        return redis_client.ping()\n",
    "\n",
    "    def safe_ts_create(self, redis_client, ts_name):\n",
    "        try:\n",
    "            redis_client.ts().create(ts_name)\n",
    "        except redis.ResponseError:\n",
    "            pass\n",
    "\n",
    "    # def add_el_to_ts(redis_client, ts_name, timestamp, value):\n",
    "    #     redis_client.ts().add(ts_name, timestamp, value)"
   ]
  },
  {
   "cell_type": "code",
   "execution_count": null,
   "metadata": {},
   "outputs": [],
   "source": [
    "clientredis = RedisClient(\n",
    "    username = \"default\",\n",
    "    pswd = \"53R8YAlL81zAHIEVcPjwjzcnVQoSPhzt\",\n",
    "    publicid = \"redis-15072.c77.eu-west-1-1.ec2.cloud.redislabs.com\",\n",
    "    port = 15072\n",
    ")\n",
    "redis_client = clientredis.create_client()\n",
    "clientredis.check_for_connection(redis_client=redis_client)"
   ]
  },
  {
   "cell_type": "code",
   "execution_count": null,
   "metadata": {},
   "outputs": [],
   "source": [
    "client_mqtt = mqtt.Client()\n",
    "\n",
    "def on_connect(client, userdata, flags, rc):\n",
    "    print(f'Connected with result code {str(rc)}')\n",
    "    # Subscribe to a topic when the client connects\n",
    "    client.subscribe('s299266')\n",
    "\n",
    "def on_message(client, userdata, msg):\n",
    "    global redis_client, clientredis\n",
    "    message = msg.payload.decode()\n",
    "    message = json.loads(message)\n",
    "    topic = msg.topic\n",
    "    print(f\"Received message from {message.get('mac_address')}\")\n",
    "    clientredis.safe_ts_create(redis_client=redis_client, ts_name=f\"{message.get('mac_address')}:speed\")\n",
    "    # clientredis.safe_ts_create(redis_client=redis_client, ts_name=f\"{message.get('mac_address')}:power\")\n",
    "    redis_client.ts().add(f\"{message.get('mac_address')}:speed\", int(message.get(\"timestamp\")), message.get(\"speed\"))\n",
    "    print(redis_client.ts().get(f\"{message.get('mac_address')}:speed\"))\n",
    "    #print(redis_client.keys())\n",
    "    print(\"Added speed informations\")\n",
    "    # redis_client.ts().add(f\"{message.get('mac_address')}:power\", int(message.get(\"timestamp\")), int(message.get(\"power_plugged\")))\n",
    "    # print(\"Added power_plugged informations\")\n",
    "\n",
    "client_mqtt.on_connect = on_connect\n",
    "client_mqtt.on_message = on_message\n",
    "\n",
    "client_mqtt.connect(\"mqtt.eclipseprojects.io\", 1883)"
   ]
  }
 ],
 "metadata": {
  "kernelspec": {
   "display_name": "ml4iotenv",
   "language": "python",
   "name": "python3"
  },
  "language_info": {
   "codemirror_mode": {
    "name": "ipython",
    "version": 3
   },
   "file_extension": ".py",
   "mimetype": "text/x-python",
   "name": "python",
   "nbconvert_exporter": "python",
   "pygments_lexer": "ipython3",
   "version": "3.8.10"
  },
  "orig_nbformat": 4,
  "vscode": {
   "interpreter": {
    "hash": "26573a9fad40d086beb2339af52d84c427e9bce5fee7d856f858bff4ce858c27"
   }
  }
 },
 "nbformat": 4,
 "nbformat_minor": 2
}
